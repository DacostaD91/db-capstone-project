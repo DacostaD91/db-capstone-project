{
 "cells": [
  {
   "cell_type": "markdown",
   "id": "2dce4e95-7218-44b5-9ff9-fe141ec1bf9d",
   "metadata": {},
   "source": [
    "# Exercise: Add query functions\n"
   ]
  },
  {
   "cell_type": "markdown",
   "id": "3ba65b0b-1536-4b2f-9d43-c25c9d457b11",
   "metadata": {},
   "source": [
    "## Scenario \n",
    "\n",
    "Little Lemon have started building a functional booking system from which they can manage their customer data. An integral part of a well-functioning system is the ability to query data. Little Lemon need you to help them add the search functionality required to query their data. \n",
    "\n",
    "## Prerequisites\n",
    "\n",
    "At this stage of the project, you should have set up the working environment, configured the connector/python and created a database with all the customer information. To implement a booking system, you will first have to review how to make queries on an existing database using Python syntax."
   ]
  },
  {
   "cell_type": "code",
   "execution_count": 57,
   "id": "5d2aed2b-c6a6-425f-a8f9-b411692a4700",
   "metadata": {},
   "outputs": [],
   "source": [
    "#!pip install mysql-connector-python"
   ]
  },
  {
   "cell_type": "markdown",
   "id": "590df4ad-06bf-4e55-ba64-c658abe29b5c",
   "metadata": {},
   "source": [
    "## Task One\n",
    "\n",
    "In the previous exercise you created a Python environment. In the first task of this exercise, you are tasked with extending the environment to connect with your database and interact with the data it holds. \n",
    "\n",
    "Your first step is to import the connector module, enter your user details and connect with the database (Hint: you can use an alias when importing the module).\n",
    "\n",
    "This gives you access to all the functionality available from the connector API, which can be accessed through the variable named connector (or whichever alias you choose). "
   ]
  },
  {
   "cell_type": "code",
   "execution_count": 63,
   "id": "2a86627d-56fe-4650-87c9-fba1d54f6cb5",
   "metadata": {},
   "outputs": [],
   "source": [
    "import mysql.connector as connector\n",
    "import mysql.connector.errorcode as error"
   ]
  },
  {
   "cell_type": "code",
   "execution_count": 64,
   "id": "6e67b5fe-30b6-4d55-99a4-292180800d8b",
   "metadata": {},
   "outputs": [],
   "source": [
    "try:\n",
    "    conn = connector.connect(user = \"root\", password = \"Pasear*809\", database=\"littlelemondb\")\n",
    "except connector.Error as err:\n",
    "    if err.errno == error.ER_ACCESS_DENIED_ERROR:\n",
    "        print(\"User or Password are incorrect\")\n",
    "    elif err.errno == error.ER_BAD_DB_ERROR:\n",
    "        print(\"Database doesn't exist\")\n",
    "    else:\n",
    "        print(\"Something went wrong: {}\".formar(err))\n",
    "    "
   ]
  },
  {
   "cell_type": "markdown",
   "id": "55024da8-7877-48bd-9945-a1e392aa4ae0",
   "metadata": {},
   "source": [
    "## Task two\n",
    "\n",
    "In this second task, you now need to query the database to show all tables within the database. \n",
    "\n",
    "Having established a connection in the first task, you need to execute a test query to ensure that there are no issues. You can do this by executing, or passing, a generic query that returns a snapshot of the database tables. \n",
    "\n",
    "You need to execute the query on the cursor using the code that follows. The cursor, as you should recall, is the bridge through which you can pass queries and return results. "
   ]
  },
  {
   "cell_type": "code",
   "execution_count": 65,
   "id": "5f86fc2a-f773-406d-b8f7-59cfc4229690",
   "metadata": {},
   "outputs": [],
   "source": [
    "cursor = conn.cursor()\n",
    "show_tables_query = \"Show tables;\"\n",
    "cursor.execute(show_tables_query)"
   ]
  },
  {
   "cell_type": "code",
   "execution_count": 66,
   "id": "cab5e5a0-9c2a-4437-9997-eea3189a7a93",
   "metadata": {},
   "outputs": [
    {
     "name": "stdout",
     "output_type": "stream",
     "text": [
      "('bookings',)\n",
      "('bookingstatus',)\n",
      "('category',)\n",
      "('customer',)\n",
      "('customerorders',)\n",
      "('menu',)\n",
      "('menuitemswithorders',)\n",
      "('orderdeliverystatus',)\n",
      "('orderdetail',)\n",
      "('orders',)\n",
      "('orderstatus',)\n",
      "('ordersview',)\n",
      "('roles',)\n",
      "('staff',)\n"
     ]
    }
   ],
   "source": [
    "for rows in cursor:\n",
    "    print(rows)"
   ]
  },
  {
   "cell_type": "code",
   "execution_count": null,
   "id": "2d390c36-b423-48a5-b34c-25c26bd7059a",
   "metadata": {},
   "outputs": [],
   "source": [
    "\n"
   ]
  },
  {
   "cell_type": "markdown",
   "id": "2d316836-ebb5-4615-bee3-1cda5213bc67",
   "metadata": {},
   "source": [
    "## Task 3\n",
    "\n",
    "### Query with table JOIN\n",
    "\n",
    "For the third and final task, Little Lemon need you to return specific details from your database. They require the full name and contact details for every customer that has placed an order greater than $60 for a promotional campaign. \n",
    "\n",
    "You can use the following steps to implement this functionality in your database directory:\n",
    "\n",
    "\n",
    "1. **Step One:** Identify which tables are required. To complete the query, you first need to identify which table has the required data. \n",
    "\n",
    "The bill paid can be found in Orders as TotalCost and the customer contact information can be found in the Customers table. \n",
    "\n",
    "When selecting attributes from a specific table, specify the table name, followed by a dot and the target attribute as below (Hint: select the column attributes that you will need). \n",
    "\n",
    "\n",
    "2. **Step Two:** Next, specify a table (Hint: The FROM keyword allows you to identify a table.)\n",
    "\n",
    "To join two tables, specify the type of JOIN and the attribute to join the table on. The tables must be joined on an attribute that is common to both tables (such as a common column).\n",
    "\n",
    "\n",
    "3. **Step Three:** Finally, include a clause to filter the data on. (Hint: the WHERE clause can be used to add conditional parameters.)\n",
    " \n",
    "When you have completed these steps, wrap this query as a string and pass it to the .execute() method of the cursor class. When executed, your SELECT query must extract the full name, contact details and bill amount for every customer who spent more than $60."
   ]
  },
  {
   "cell_type": "code",
   "execution_count": 72,
   "id": "95c8b498-b153-4046-a7ca-9932f8ec89b6",
   "metadata": {},
   "outputs": [
    {
     "name": "stdout",
     "output_type": "stream",
     "text": [
      "('Emily Davis', '456-789-0123', 'emily.davis@example.com', Decimal('80.00'))\n",
      "('Michael Johnson', '345-678-9012', 'michael.johnson@example.com', Decimal('105.00'))\n",
      "('David Brown', '567-890-1234', 'david.brown@example.com', Decimal('73.00'))\n",
      "('Emily Davis', '456-789-0123', 'emily.davis@example.com', Decimal('80.00'))\n"
     ]
    }
   ],
   "source": [
    "# SQL Query\n",
    "query = \"\"\"\n",
    "SELECT \n",
    "    c.CustomerName AS FullName,\n",
    "    c.PhoneNumber,\n",
    "    c.Email,\n",
    "    o.TotalCost\n",
    "FROM Customer c JOIN Orders o ON c.CustomerID = o.CustomerID\n",
    "WHERE o.TotalCost > 60;\n",
    "\"\"\"\n",
    "\n",
    "# Query execution\n",
    "cursor.execute(query)\n",
    "\n",
    "# Fetching and printing the result set\n",
    "results = cursor.fetchall()\n",
    "for row in results:\n",
    "    print(row)\n"
   ]
  },
  {
   "cell_type": "code",
   "execution_count": 73,
   "id": "e4a3dced-8549-4fe1-8df4-aed1c93ac01f",
   "metadata": {},
   "outputs": [],
   "source": [
    "cursor.close()\n",
    "conn.close()"
   ]
  },
  {
   "cell_type": "code",
   "execution_count": null,
   "id": "2c44b0b2-eeb3-4d6f-b9b6-c90c20c7a3a4",
   "metadata": {},
   "outputs": [],
   "source": []
  }
 ],
 "metadata": {
  "kernelspec": {
   "display_name": "Python 3 (ipykernel)",
   "language": "python",
   "name": "python3"
  },
  "language_info": {
   "codemirror_mode": {
    "name": "ipython",
    "version": 3
   },
   "file_extension": ".py",
   "mimetype": "text/x-python",
   "name": "python",
   "nbconvert_exporter": "python",
   "pygments_lexer": "ipython3",
   "version": "3.12.3"
  }
 },
 "nbformat": 4,
 "nbformat_minor": 5
}
